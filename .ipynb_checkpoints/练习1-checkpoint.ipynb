{
 "cells": [
  {
   "cell_type": "code",
   "execution_count": 12,
   "metadata": {},
   "outputs": [],
   "source": [
    "\n",
    "t=open('/home/tzy/test.txt','w')\n",
    "t.write('我是乱码')\n",
    "t.close()\n"
   ]
  },
  {
   "cell_type": "code",
   "execution_count": 13,
   "metadata": {},
   "outputs": [
    {
     "name": "stdout",
     "output_type": "stream",
     "text": [
      "我是乱码\n"
     ]
    }
   ],
   "source": [
    "t=open('/home/tzy/test.txt')\n",
    "print(t.read())\n"
   ]
  },
  {
   "cell_type": "code",
   "execution_count": 5,
   "metadata": {},
   "outputs": [
    {
     "name": "stdout",
     "output_type": "stream",
     "text": [
      "dui\n",
      "cuo\n"
     ]
    }
   ],
   "source": [
    "a=1\n",
    "b=2\n",
    "if a==1 :\n",
    "    print('dui')\n",
    "if b==2:\n",
    "    print('cuo')\n"
   ]
  },
  {
   "cell_type": "code",
   "execution_count": 13,
   "metadata": {},
   "outputs": [
    {
     "data": {
      "text/plain": [
       "'爱吃土豆'"
      ]
     },
     "execution_count": 13,
     "metadata": {},
     "output_type": "execute_result"
    }
   ],
   "source": [
    "#使用字典解决多个对应答案的问题\n",
    "state_dict={'1':'爱吃萝卜','2':'爱吃菜','state':'爱吃土豆','4':'爱吃素'}\n",
    "code=state_dict.get('state',5)\n",
    "code\n",
    "\n",
    "\n"
   ]
  },
  {
   "cell_type": "code",
   "execution_count": 17,
   "metadata": {},
   "outputs": [
    {
     "name": "stdout",
     "output_type": "stream",
     "text": [
      "爬虫\n",
      "爬虫\n",
      "爬虫\n",
      "爬虫\n",
      "爬虫\n"
     ]
    }
   ],
   "source": [
    "for i in range(5):\n",
    "    print('爬虫')\n",
    "    "
   ]
  },
  {
   "cell_type": "code",
   "execution_count": 19,
   "metadata": {},
   "outputs": [
    {
     "name": "stdout",
     "output_type": "stream",
     "text": [
      "张三\n",
      "李四\n",
      "王五\n",
      "大\n",
      "家\n",
      "好\n",
      "，\n",
      "我\n",
      "是\n",
      "渣\n",
      "渣\n",
      "辉\n"
     ]
    }
   ],
   "source": [
    "#for循环的几种好的用法\n",
    "name_list=['张三','李四','王五']\n",
    "title='大家好，我是渣渣辉'\n",
    "for i in name_list:\n",
    "    print(i)\n",
    "for i in title:s\n",
    "    print(i)\n",
    "\n",
    "\n",
    "\n"
   ]
  },
  {
   "cell_type": "code",
   "execution_count": 23,
   "metadata": {},
   "outputs": [
    {
     "name": "stdout",
     "output_type": "stream",
     "text": [
      "菜品：红烧肉\n",
      "价格：100元\n",
      "================\n",
      "菜品：水煮肉片\n",
      "价格：50元\n",
      "================\n",
      "菜品：鸡汤\n",
      "价格：1毛\n",
      "================\n"
     ]
    }
   ],
   "source": [
    "#for循环读取字典\n",
    "menu_dict={'红烧肉':'100元','水煮肉片':'50元','鸡汤':'1毛'}\n",
    "for i in menu_dict:\n",
    "    print('菜品：{}'.format(i))\n",
    "    print('价格：{}'.format(menu_dict[i]))\n",
    "    print('================')"
   ]
  },
  {
   "cell_type": "code",
   "execution_count": 25,
   "metadata": {},
   "outputs": [
    {
     "name": "stdout",
     "output_type": "stream",
     "text": [
      "这是第0次循环\n",
      "这是第1次循环\n",
      "这是第2次循环\n",
      "这是第3次循环\n",
      "这是第4次循环\n"
     ]
    }
   ],
   "source": [
    "for i in range(5):\n",
    "    print('这是第{}次循环'.format(i))\n"
   ]
  },
  {
   "cell_type": "code",
   "execution_count": 26,
   "metadata": {},
   "outputs": [
    {
     "name": "stdout",
     "output_type": "stream",
     "text": [
      "现在是第0次循环\n",
      "现在是第1次循环\n",
      "现在是第2次循环\n",
      "现在是第3次循环\n",
      "现在是第4次循环\n",
      "现在是第5次循环\n",
      "现在是第6次循环\n",
      "现在是第7次循环\n",
      "现在是第8次循环\n",
      "现在是第9次循环\n"
     ]
    }
   ],
   "source": [
    "i=0\n",
    "while i<10:\n",
    "    print('现在是第{}次循环'.format(i))\n",
    "    i+=1"
   ]
  },
  {
   "cell_type": "code",
   "execution_count": 39,
   "metadata": {},
   "outputs": [
    {
     "name": "stdout",
     "output_type": "stream",
     "text": [
      "1\n",
      "2\n",
      "3\n",
      "4\n",
      "5\n",
      "6\n",
      "7\n",
      "8\n",
      "9\n",
      "10\n"
     ]
    }
   ],
   "source": [
    "#无限循环中设置循环延迟时间\n",
    "i=0\n",
    "import time as tm\n",
    "while 1:\n",
    "    i=i+1\n",
    "    print(i)\n",
    "    tm.sleep(2)\n",
    "    if i==10:\n",
    "        break"
   ]
  },
  {
   "cell_type": "code",
   "execution_count": 37,
   "metadata": {},
   "outputs": [
    {
     "name": "stdout",
     "output_type": "stream",
     "text": [
      "张三\n",
      "李四\n",
      "朱六\n"
     ]
    }
   ],
   "source": [
    "name_list=['张三','李四','王五','朱六']\n",
    "for i in name_list:\n",
    "    if i=='王五':\n",
    "        continue\n",
    "    print(i)\n",
    "   #使用continue跳过一次循环\n"
   ]
  },
  {
   "cell_type": "code",
   "execution_count": 33,
   "metadata": {},
   "outputs": [
    {
     "name": "stdout",
     "output_type": "stream",
     "text": [
      "张三\n",
      "李四\n"
     ]
    }
   ],
   "source": [
    "name_list=['张三','李四','王五','朱六']\n",
    "for i in name_list:\n",
    "    if i=='王五':\n",
    "        break\n",
    "    print(i)\n",
    "    \n"
   ]
  },
  {
   "cell_type": "code",
   "execution_count": 35,
   "metadata": {},
   "outputs": [
    {
     "data": {
      "text/plain": [
       "2"
      ]
     },
     "execution_count": 35,
     "metadata": {},
     "output_type": "execute_result"
    }
   ],
   "source": [
    "#函数\n",
    "def example_1():#函数内部只执行return前的部分\n",
    "    a=1+1\n",
    "    return a\n",
    "    b=2+2\n",
    "    print(b)\n",
    "example_1()"
   ]
  },
  {
   "cell_type": "code",
   "execution_count": 10,
   "metadata": {},
   "outputs": [
    {
     "name": "stdout",
     "output_type": "stream",
     "text": [
      "请输入俩个由空格分割的俩个非零整数：23 34\n",
      "两数和为:57\n"
     ]
    }
   ],
   "source": [
    "#函数的调用\n",
    "#输入模块\n",
    "def get_input():\n",
    "    input_string=input('请输入俩个由空格分割的俩个非零整数：')\n",
    "    a_string,b_string=input_string.split(' ')\n",
    "    return int(a_string),int(b_string)\n",
    "#计算模块\n",
    "def calc(a,b):\n",
    "    sum_ab=a+b\n",
    "    return {'sum':sum_ab}\n",
    "#输出模块\n",
    "def output(answer):\n",
    "    print('两数和为:{}'.format(answer['sum']))\n",
    "    \n",
    "def run():\n",
    "    a_int,b_int=get_input()\n",
    "    re=calc(a_int,b_int)\n",
    "    output(re)\n",
    "run()"
   ]
  },
  {
   "cell_type": "code",
   "execution_count": 9,
   "metadata": {},
   "outputs": [
    {
     "name": "stdout",
     "output_type": "stream",
     "text": [
      "x:1,y:2,z:3\n",
      "x:6,y:0,z:50\n",
      "x:hh,y:-8,z:50\n",
      "x:100,y:0,z:50\n"
     ]
    }
   ],
   "source": [
    "#函数默认参数，sum（），括号内没参数时使用默认参数\n",
    "def print_xyz(x=100,y=0,z=50):\n",
    "    print('x:{},y:{},z:{}'.format(x,y,z))\n",
    "print_xyz(1,2,3)\n",
    "print_xyz(6)\n",
    "print_xyz(y=-8,x='hh')\n",
    "print_xyz() #使用默认参数"
   ]
  },
  {
   "cell_type": "code",
   "execution_count": 55,
   "metadata": {},
   "outputs": [
    {
     "name": "stdout",
     "output_type": "stream",
     "text": [
      "原来的列表为[1, 2, 3]\n",
      "改后列表为[1, 2, 3, 4, 5, 6]\n",
      "原来的变量为10\n",
      "变量现在为10\n"
     ]
    }
   ],
   "source": [
    "#函数可以修改函数外容器（列表，字典，集合）的值,但不能修改普通变量\n",
    "a=[1,2,3]\n",
    "b=10\n",
    "def change_list(para): #容器可以用函数修改\n",
    "    para.append(4)\n",
    "    para.append(5)\n",
    "    para.append(6)\n",
    "\n",
    "def change_int(para): #普通变量函数无法修改\n",
    "    para=100\n",
    "print('原来的列表为{}'.format(a))\n",
    "change_list(a)\n",
    "print('改后列表为{}'.format(a))\n",
    "print('原来的变量为{}'.format(b))\n",
    "change_int(b)\n",
    "print('变量现在为{}'.format(b))"
   ]
  },
  {
   "cell_type": "code",
   "execution_count": null,
   "metadata": {},
   "outputs": [],
   "source": [
    "面向对象和类的概念,对象包含属性和方法"
   ]
  },
  {
   "cell_type": "code",
   "execution_count": 58,
   "metadata": {},
   "outputs": [
    {
     "name": "stdout",
     "output_type": "stream",
     "text": [
      "名字叫王小二,我跳了一下\n",
      "名字叫张三,我跳了一下\n",
      "==============\n",
      "王小二\n",
      "18\n",
      "张三\n",
      "30\n",
      "==============\n",
      "我的名字叫王小二,我正在走路\n",
      "我的名字叫张三,我正在吃饭\n"
     ]
    }
   ],
   "source": [
    "class People(object):#object为Python内置的一个父类，自定义新类时需要继承这个类\n",
    "    def __init__(self,name,age): #定义属性，引用People该类时可以在（）输入\n",
    "        self.name=name\n",
    "        self.age=age\n",
    "        self.jump()\n",
    "    def walk(self):  #括号内为父类\n",
    "        print('我的名字叫{},我正在走路'.format(self.name))\n",
    "    def eat(self):\n",
    "        print('我的名字叫{},我正在吃饭'.format(self.name))\n",
    "    def jump(self):\n",
    "        print('名字叫{},我跳了一下'.format(self.name))\n",
    "wang=People('王小二',18)\n",
    "zhang=People('张三',30)\n",
    "print('==============')\n",
    "print(wang.name)\n",
    "print(wang.age)\n",
    "print(zhang.name)\n",
    "print(zhang.age)\n",
    "\n",
    "print('==============')\n",
    "wang.walk()\n",
    "zhang.eat()"
   ]
  },
  {
   "cell_type": "code",
   "execution_count": null,
   "metadata": {},
   "outputs": [],
   "source": [
    "\n",
    "def start():\n",
    "    num==0\n",
    "    import random as rd\n",
    "    answer_use=rd.randint(0,1024)\n",
    "    name_use=input('请输入用户名:')\n",
    "    if  num==0:\n",
    "        history[name_use]=[]\n",
    "        num+=1\n",
    "    else:\n",
    "        num+=1\n",
    "    def try_guess(name,answer):\n",
    "        try_num=0\n",
    "        while try_num<10:\n",
    "            guess_answer=int(input('请输入一个数字:'))\n",
    "            if guess_answer<answer:\n",
    "                print('你猜的偏小欧！')\n",
    "            elif guess_answer==answer:\n",
    "                print('回答正确')\n",
    "                history[name].append('成功')\n",
    "                break\n",
    "            else:\n",
    "                print('你猜的数字偏大欧！')\n",
    "            try_num=try_num+1\n",
    "        else:\n",
    "            print('你猜的次数太多啦，失败。')\n",
    "            history[name].append('失败')\n",
    "    try_guess(name_use,answer_use)\n",
    "def show_history():\n",
    "    for i in history:\n",
    "        print('用户：{},记录如下：{}'.format(i,history[i]))\n",
    "\n",
    "def default():\n",
    "    pass\n",
    "select_dict={'1':show_history,'2':start}\n",
    "while 1:  \n",
    "    select=input('1.历史记录/n 2.继续游戏/n请输入数字选择:')\n",
    "    select_dict.get(select,default)()"
   ]
  },
  {
   "cell_type": "code",
   "execution_count": 103,
   "metadata": {},
   "outputs": [
    {
     "data": {
      "text/plain": [
       "3"
      ]
     },
     "execution_count": 103,
     "metadata": {},
     "output_type": "execute_result"
    }
   ],
   "source": [
    "a"
   ]
  },
  {
   "cell_type": "code",
   "execution_count": null,
   "metadata": {},
   "outputs": [],
   "source": [
    "name='tzy'\n",
    "#history={name:[]}\n",
    "#history[name].append='c'\n",
    "#history[name]=['a']\n",
    "history_n[name].append('c')\n",
    "history"
   ]
  },
  {
   "cell_type": "code",
   "execution_count": 28,
   "metadata": {},
   "outputs": [
    {
     "name": "stdout",
     "output_type": "stream",
     "text": [
      "找到内容，返回：['123456', '33445566', '888888', '999abc999']\n",
      "找不到内容，返回：[]\n"
     ]
    }
   ],
   "source": [
    "#正则表达式 模块re\n",
    "#在书中第263页\n",
    "import re\n",
    "content='我的微博密码是：123456，qq密码是：33445566，银行密码是：888888，github密码是：999abc999，帮我记住他们'\n",
    "password_list=re.findall('：(.*?)，',content)\n",
    "name_list=re.findall('名字是：(.*?)，',content)\n",
    "print('找到内容，返回：{}'.format(password_list))\n",
    "print('找不到内容，返回：{}'.format(name_list))\n"
   ]
  },
  {
   "cell_type": "code",
   "execution_count": 27,
   "metadata": {},
   "outputs": [
    {
     "name": "stdout",
     "output_type": "stream",
     "text": [
      "包含多个括号的情况下，返回：[('tzy', '123456'), ('txx', '33445566'), ('ttt', '888888'), ('kyy', '999abc999')]\n"
     ]
    }
   ],
   "source": [
    "import re\n",
    "accout_content='微博账号是：tzy，密码是：123456，QQ账号是：txx，密码是：33445566，银行卡账号是：ttt，密码是：888888，github的账号是：kyy，密码是：999abc999，帮我记住他们'\n",
    "accout_password=re.findall('账号是：(.*?)，密码是：(.*?)，',accout_content)\n",
    "print('包含多个括号的情况下，返回：{}'.format(accout_password))\n"
   ]
  },
  {
   "cell_type": "code",
   "execution_count": null,
   "metadata": {},
   "outputs": [],
   "source": [
    "使用re.S作为flag来忽略换行符"
   ]
  },
  {
   "cell_type": "code",
   "execution_count": 26,
   "metadata": {},
   "outputs": [
    {
     "name": "stdout",
     "output_type": "stream",
     "text": [
      "不使用re.S：[]\n",
      "使用re.S时：['1234\\n5678']\n"
     ]
    }
   ],
   "source": [
    "import re\n",
    "big_string='''我是tzy，我的微博密码是：1234\n",
    "5678，\n",
    "'''\n",
    "password_no_flag=re.findall('密码是：(.*?)，',big_string)\n",
    "password_flag=re.findall('密码是：(.*?)，',big_string,re.S)\n",
    "print('不使用re.S：{}'.format(password_no_flag))\n",
    "print('使用re.S时：{}'.format(password_flag))\n"
   ]
  },
  {
   "cell_type": "code",
   "execution_count": null,
   "metadata": {},
   "outputs": [],
   "source": [
    "search获得第一个数据结果，group（）用来读取search抓取的数据"
   ]
  },
  {
   "cell_type": "code",
   "execution_count": 25,
   "metadata": {},
   "outputs": [
    {
     "name": "stdout",
     "output_type": "stream",
     "text": [
      "读取第一个括号内容：tzy\n",
      "读取第二个括号内容：123456\n"
     ]
    }
   ],
   "source": [
    "import re\n",
    "accout_password_1=re.search('账号是：(.*?)，密码是：(.*?)，',accout_content)\n",
    "print('读取第一个括号内容：{}'.format(accout_password_1.group(1)))\n",
    "print('读取第二个括号内容：{}'.format(accout_password_1.group(2)))\n",
    "\n"
   ]
  },
  {
   "cell_type": "code",
   "execution_count": 30,
   "metadata": {},
   "outputs": [
    {
     "name": "stdout",
     "output_type": "stream",
     "text": [
      "不使用？的结果:['123456，QQ账号是：txx，密码是：33445566，银行卡账号是：ttt，密码是：888888，github的账号是：kyy，密码是：999abc999'],长度为：1\n",
      "使用？的结果：['123456', '33445566', '888888', '999abc999'],长度为：4\n"
     ]
    }
   ],
   "source": [
    "without_q_mark=re.findall('密码是：(.*)，',accout_content)\n",
    "q_mark=re.findall('密码是：(.*?)，',accout_content)\n",
    "print('不使用？的结果:{},长度为：{}'.format(without_q_mark,len(without_q_mark)))\n",
    "print('使用？的结果：{},长度为：{}'.format(q_mark,len(q_mark)))\n"
   ]
  },
  {
   "cell_type": "code",
   "execution_count": 31,
   "metadata": {},
   "outputs": [
    {
     "name": "stdout",
     "output_type": "stream",
     "text": [
      "括号只有.*?时，得到的结果是['客户端', '2017-01-01 13:45:00']\n",
      "2017在括号外面时，得到的结果是['-01-01 13:45:00']\n",
      "2017在括号里面，得到的结果是['2017-01-01 13:45:00']\n"
     ]
    }
   ],
   "source": [
    "html='''<div class=\"tail-info\">客户端</div>\n",
    "<div class=\"tail-info\">2017-01-01 13:45:00</div/\n",
    "'''\n",
    "result_1=re.findall('tail-info\">(.*?)<',html)\n",
    "result_2=re.findall('tail-info\">2017(.*?)<',html)\n",
    "result_3=re.findall('tail-info\">(2017.*?)<',html)\n",
    "print('括号只有.*?时，得到的结果是{}'.format(result_1))\n",
    "print('2017在括号外面时，得到的结果是{}'.format(result_2))\n",
    "print('2017在括号里面，得到的结果是{}'.format(result_3))\n"
   ]
  },
  {
   "cell_type": "code",
   "execution_count": null,
   "metadata": {},
   "outputs": [],
   "source": [
    "#直接打开已有文件，相对路径，需要先将待打开的文件和py文件发放在同一个文件夹"
   ]
  },
  {
   "cell_type": "code",
   "execution_count": 66,
   "metadata": {},
   "outputs": [
    {
     "name": "stdout",
     "output_type": "stream",
     "text": [
      "['python\\n', '爬虫从入门到实战\\n', '网页内容提取仅仅是爬虫的一小部分\\n', '真正有技术含量的是突破各种反爬虫策略\\n', '反常态技术\\n']\n",
      "python\n",
      "爬虫从入门到实战\n",
      "网页内容提取仅仅是爬虫的一小部分\n",
      "真正有技术含量的是突破各种反爬虫策略\n",
      "反常态技术\n",
      "\n"
     ]
    }
   ],
   "source": [
    "with open('text.txt',encoding='utf-8') as f:#读取每一行数据，以列表形式展示，utf-8编码防止乱码\n",
    "    content_list=f.readlines()\n",
    "    print(content_list)\n",
    "with open('text.txt',encoding='utf-8') as f:#直接读取\n",
    "    content_list_1=f.read()\n",
    "    print(content_list_1)"
   ]
  },
  {
   "cell_type": "code",
   "execution_count": null,
   "metadata": {},
   "outputs": [],
   "source": [
    "#用Python写入文本"
   ]
  },
  {
   "cell_type": "code",
   "execution_count": 3,
   "metadata": {},
   "outputs": [
    {
     "name": "stdout",
     "output_type": "stream",
     "text": [
      "写一大段文字用来爬虫....\n"
     ]
    }
   ],
   "source": [
    "with open('new.txt','w',encoding='utf-8') as n:\n",
    "    n.write('写一大段文字用来爬虫....')\n",
    "with open('new.txt',encoding='utf-8') as n:\n",
    "    print(n.read())"
   ]
  },
  {
   "cell_type": "code",
   "execution_count": 6,
   "metadata": {},
   "outputs": [
    {
     "name": "stdout",
     "output_type": "stream",
     "text": [
      "写一大段文字用来爬虫....爬虫爬虫爬呀爬\n",
      "********************\n",
      "爬虫爬虫爬呀爬\n",
      "********************\n",
      "爬虫爬虫爬呀爬\n",
      "********************\n",
      "\n"
     ]
    }
   ],
   "source": [
    "#用a来在文本末尾继续写入\n",
    "with open('new.txt','a',encoding='utf-8') as n:\n",
    "    n.writelines(['爬虫','爬虫','爬呀爬'])\n",
    "    n.write('\\n********************\\n')\n",
    "with open('new.txt',encoding='utf-8') as n:\n",
    "    print(n.read())\n",
    "    \n",
    "    "
   ]
  },
  {
   "cell_type": "code",
   "execution_count": null,
   "metadata": {},
   "outputs": [],
   "source": [
    "#CSV文件打开\n",
    "import csv\n",
    "#p380页内容有"
   ]
  },
  {
   "cell_type": "code",
   "execution_count": 7,
   "metadata": {},
   "outputs": [],
   "source": [
    "#Python写csv格式文件\n",
    "import csv\n",
    "data=[{'name':'tzy','age':20,'salary':999},{'name':'txy','age':23,'salary':1100},{'name':'xiaoming','age':25,'salary':'4000'}]\n",
    "with open('new.csv','w',encoding='utf-8') as f:\n",
    "    writer=csv.DictWriter(f,fieldnames=['name','age','salary'])\n",
    "    writer.writeheader()    \n",
    "    writer.writerows(data)  #将要写入的字典按列表输入（包含字典的列表）\n",
    "    writer.writerow({'name':'nnn','age':28,'salary':11000})  #在原文件里单独加入新的字典\n",
    "    "
   ]
  },
  {
   "cell_type": "code",
   "execution_count": null,
   "metadata": {},
   "outputs": [],
   "source": [
    "#GET方法获得网页源代码，能够直接访问网址"
   ]
  },
  {
   "cell_type": "code",
   "execution_count": 8,
   "metadata": {},
   "outputs": [
    {
     "name": "stdout",
     "output_type": "stream",
     "text": [
      "<!DOCTYPE html>\n",
      "<html lang=\"en\">\n",
      "<head>\n",
      "    <meta charset=\"UTF-8\">\n",
      "    <title>GET 测试</title>\n",
      "</head>\n",
      "<body>\n",
      "<p>如果你可以看到这一段话，那么说明你已经知道如何通过</p>\n",
      "<p>requests获得GET方式网页的源代码。</p>\n",
      "</body>\n",
      "</html>\n"
     ]
    }
   ],
   "source": [
    "import requests#content方法显示源代码，decode方法解决中文显示解码\n",
    "html=requests.get('http://exercise.kingname.info/exercise_requests_get.html').content.decode()\n",
    "print(html)"
   ]
  },
  {
   "cell_type": "code",
   "execution_count": null,
   "metadata": {},
   "outputs": [],
   "source": [
    "#POST方式，必须用按钮或点击链接来跳转"
   ]
  },
  {
   "cell_type": "code",
   "execution_count": 13,
   "metadata": {},
   "outputs": [
    {
     "name": "stdout",
     "output_type": "stream",
     "text": [
      "<!DOCTYPE html>\n",
      "<html lang=\"en\">\n",
      "<head>\n",
      "    <meta charset=\"UTF-8\">\n",
      "    <title>POST 测试</title>\n",
      "</head>\n",
      "<body>\n",
      "\n",
      "<p>恭喜恭喜，你现在使用的是POST方式访问本页，通过Formdata提交数据，你提交的数据为：</p>\n",
      "<p>Name: kingname</p>\n",
      "<p>Password: 1234567</p>\n",
      "\n",
      "</body>\n",
      "</html>\n"
     ]
    }
   ],
   "source": [
    "import requests\n",
    "data={'name':'kingname','password':'1234567'}\n",
    "html_formdata=requests.post('http://exercise.kingname.info/exercise_requests_post',data=data)\n",
    "print(html_formdata.content.decode())"
   ]
  },
  {
   "cell_type": "code",
   "execution_count": 12,
   "metadata": {},
   "outputs": [
    {
     "name": "stdout",
     "output_type": "stream",
     "text": [
      "<!DOCTYPE html>\n",
      "<html lang=\"en\">\n",
      "<head>\n",
      "    <meta charset=\"UTF-8\">\n",
      "    <title>POST 测试</title>\n",
      "</head>\n",
      "<body>\n",
      "\n",
      "<p>恭喜恭喜，你现在使用的是POST方式访问本页，通过JSON提交数据，你提交的数据为：</p>\n",
      "<p>Name: kingname</p>\n",
      "<p>Password: 1234567</p>\n",
      "\n",
      "</body>\n",
      "</html>\n"
     ]
    }
   ],
   "source": [
    "import requests\n",
    "data={'name':'kingname','password':'1234567'}\n",
    "html_json=requests.post('http://exercise.kingname.info/exercise_requests_post',json=data)\n",
    "print(html_json.content.decode())"
   ]
  },
  {
   "cell_type": "code",
   "execution_count": 2,
   "metadata": {},
   "outputs": [
    {
     "name": "stdout",
     "output_type": "stream",
     "text": [
      "页面标题为：GET 测试\n",
      "页面正文内容为：\n",
      "如果你可以看到这一段话，那么说明你已经知道如何通过\n",
      "requests获得GET方式网页的源代码。\n"
     ]
    }
   ],
   "source": [
    "#requests与正则表达式结合抓取数据\n",
    "import re\n",
    "import requests\n",
    "html=requests.get('http://exercise.kingname.info/exercise_requests_get.html').content.decode()\n",
    "title=re.search('title>(.*?)<',html,re.S).group(1)\n",
    "content_list=re.findall('<p>(.*?)<',html,re.S)\n",
    "content_str='\\n'.join(content_list)\n",
    "print('页面标题为：{}'.format(title))\n",
    "print('页面正文内容为：\\n{}'.format(content_str))"
   ]
  },
  {
   "cell_type": "code",
   "execution_count": 1,
   "metadata": {},
   "outputs": [
    {
     "name": "stdout",
     "output_type": "stream",
     "text": [
      "sdgrwg\n"
     ]
    }
   ],
   "source": [
    "#多线程爬虫\n",
    "\n",
    "\n",
    "\n",
    "\n",
    "\n",
    "\n",
    "\n",
    "\n"
   ]
  },
  {
   "cell_type": "code",
   "execution_count": 1,
   "metadata": {},
   "outputs": [],
   "source": []
  },
  {
   "cell_type": "code",
   "execution_count": null,
   "metadata": {},
   "outputs": [],
   "source": []
  }
 ],
 "metadata": {
  "kernelspec": {
   "display_name": "Python 3",
   "language": "python",
   "name": "python3"
  },
  "language_info": {
   "codemirror_mode": {
    "name": "ipython",
    "version": 3
   },
   "file_extension": ".py",
   "mimetype": "text/x-python",
   "name": "python",
   "nbconvert_exporter": "python",
   "pygments_lexer": "ipython3",
   "version": "3.7.3"
  }
 },
 "nbformat": 4,
 "nbformat_minor": 2
}
