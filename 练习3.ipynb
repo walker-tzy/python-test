{
 "cells": [
  {
   "cell_type": "code",
   "execution_count": null,
   "metadata": {},
   "outputs": [],
   "source": [
    "#异步加载与请求头 2019.8.5"
   ]
  },
  {
   "cell_type": "code",
   "execution_count": 1,
   "metadata": {},
   "outputs": [
    {
     "name": "stdout",
     "output_type": "stream",
     "text": [
      "{\n",
      "    \"basic_info\": {\n",
      "        \"name\": \"kingname\",\n",
      "        \"age\": 24,\n",
      "        \"sex\": \"male\",\n",
      "        \"merry\": false\n",
      "    },\n",
      "    \"work_info\": {\n",
      "        \"salary\": 99999,\n",
      "        \"position\": \"engineer\",\n",
      "        \"department\": null\n",
      "    }\n",
      "}\n",
      "{'basic_info': {'name': 'kingname', 'age': 24, 'sex': 'male', 'merry': False}, 'work_info': {'salary': 99999, 'position': 'engineer', 'department': None}}\n"
     ]
    }
   ],
   "source": [
    "import json\n",
    "person = {\n",
    "      'basic_info': {'name': 'kingname',\n",
    "              'age': 24,\n",
    "              'sex': 'male',\n",
    "              'merry': False},\n",
    "      'work_info': {'salary': 99999,\n",
    "              'position': 'engineer',\n",
    "              'department': None}\n",
    "      }\n",
    "#json格式是各种语言的桥梁中介\n",
    "#将字典转化为json格式字符串\n",
    "person_json=json.dumps(person,indent=4) #加四个空格缩进\n",
    "print(person_json)\n",
    "#列表用同样方法也可转换为json格式字符串\n",
    "person_dict=json.loads(person_json)\n",
    "print(person_dict)\n"
   ]
  },
  {
   "cell_type": "code",
   "execution_count": 2,
   "metadata": {},
   "outputs": [
    {
     "name": "stdout",
     "output_type": "stream",
     "text": [
      "如果你看到这一段文字，说明你已经成功访问了这个页面,并获取了GET方式的异步加载数据。\n"
     ]
    }
   ],
   "source": [
    "#GET方式的异步加载数据\n",
    "import requests\n",
    "url='http://exercise.kingname.info/ajax_1_backend' #注意网址不是最初原始网址，是chrome开发者工具中network项目中的两种异步加载\n",
    "html=requests.get(url).content.decode()\n",
    "print(html)\n"
   ]
  },
  {
   "cell_type": "code",
   "execution_count": 5,
   "metadata": {},
   "outputs": [
    {
     "name": "stdout",
     "output_type": "stream",
     "text": [
      "如果你看到这一段文字，说明你已经成功访问了这个页面，并获取了POST方式的异步加载数据。你向服务器提交的两个参数，分别为name： tzy, age：20\n"
     ]
    }
   ],
   "source": [
    "#POST方式的异步加载数据\n",
    "import requests\n",
    "url_post='http://exercise.kingname.info/ajax_1_postbackend'#注意网址不是最初原始网址，是chrome开发者工具中network项目中的两种异步加载\n",
    "html_1=requests.post(url_post,json={'name':'tzy','age':20}).content.decode()\n",
    "print(html_1)\n"
   ]
  },
  {
   "cell_type": "code",
   "execution_count": 16,
   "metadata": {},
   "outputs": [
    {
     "name": "stdout",
     "output_type": "stream",
     "text": [
      "行动代号：天王盖地虎\n"
     ]
    }
   ],
   "source": [
    "#特殊的异步加载\n",
    "import json\n",
    "import requests\n",
    "import re\n",
    "url='http://exercise.kingname.info/exercise_ajax_2.html'\n",
    "html=requests.get(url).content.decode()\n",
    "code_json=re.search(\"secret = '(.*?)'\",html,re.S).group(1)\n",
    "code_dict=json.loads(code_json)\n",
    "print(code_dict['code'])"
   ]
  },
  {
   "cell_type": "code",
   "execution_count": 19,
   "metadata": {},
   "outputs": [
    {
     "name": "stdout",
     "output_type": "stream",
     "text": [
      "行动代号：哎哟不错哦\n"
     ]
    }
   ],
   "source": [
    "import json \n",
    "import re\n",
    "import requests\n",
    "url='http://exercise.kingname.info/exercise_ajax_3.html' #原网址\n",
    "first_url='http://exercise.kingname.info/ajax_3_backend' #get异步加载网址\n",
    "second_url='http://exercise.kingname.info/ajax_3_postbackend' #post异步加载网址\n",
    "html_1=requests.get(url).content.decode()\n",
    "secret_2=re.search(\"secret_2 = '(.*?)'\",html_1,re.S).group(1)  #注意双引号，获得密码2\n",
    "first_json=requests.get(first_url).content.decode()\n",
    "first_dict=json.loads(first_json)\n",
    "secret_1=first_dict['code'] #获得密码1\n",
    "second_json=requests.post(second_url,json={'name':'tzy','age':'20','secret1':secret_1,'secret2':secret_2}).content.decode()\n",
    "second_dict=json.loads(second_json) #获得密码1,2，后发送post请求\n",
    "code=second_dict['code']\n",
    "print(code)\n"
   ]
  },
  {
   "cell_type": "code",
   "execution_count": 18,
   "metadata": {},
   "outputs": [
    {
     "name": "stdout",
     "output_type": "stream",
     "text": [
      "kingname is genius\n"
     ]
    }
   ],
   "source": [
    "#基于异步加载的简单登录\n",
    "import requests\n",
    "import json\n",
    "url_1='http://exercise.kingname.info/ajax_4_backend'\n",
    "code_json=requests.post(url_1,json={'username':'kingname','password':'genius'}).content.decode()\n",
    "code_dict=json.loads(code_json)\n",
    "print(code_dict['code'])\n",
    "\n",
    "\n"
   ]
  },
  {
   "cell_type": "code",
   "execution_count": 2,
   "metadata": {},
   "outputs": [
    {
     "name": "stdout",
     "output_type": "stream",
     "text": [
      "访问成功，通关密码：38323\n"
     ]
    }
   ],
   "source": [
    "import requests\n",
    "import json\n",
    "url = 'http://exercise.kingname.info/exercise_headers_backend'\n",
    "headers = {\n",
    "\n",
    "    'Accept': '*/*',\n",
    "    'Accept-Encoding': 'gzip, deflate, br',\n",
    "    'Accept-Language': 'zh-CN,zh;q=0.8,en;q=0.6',\n",
    "    'anhao': 'kingname',\n",
    "    'Connection': 'keep-alive',\n",
    "    'Content-Type': 'application/json; charset=utf-8',\n",
    "    'DNT': '1',\n",
    "    'Host': 'exercise.kingname.info',\n",
    "    'Referer': 'http://exercise.kingname.info/exercise_headers.html',\n",
    "    'User-Agent': 'Mozilla/5.0 (Macintosh; Intel Mac OS X 10_12_5) AppleWebKit/537.36 (KHTML, like Gecko) Chrome/59.0.3071.115 Safari/537.36',\n",
    "    'X-Requested-With': 'XMLHttpRequest',\n",
    "\n",
    "}\n",
    "html_json = requests.get(url, headers=headers).content.decode()\n",
    "html_dict = json.loads(html_json)\n",
    "print(html_dict['code'])"
   ]
  },
  {
   "cell_type": "code",
   "execution_count": 6,
   "metadata": {},
   "outputs": [
    {
     "name": "stdout",
     "output_type": "stream",
     "text": [
      "<html><head>\n",
      "        <title>exercise ajax load</title>\n",
      "    </head>\n",
      "    <body>\n",
      "        <div class=\"content\"></div>\n",
      "    \n",
      "    <script src=\"static/js/jquery-3.2.1.min.js\"></script>\n",
      "    <script src=\"static/js/exercise_check.js\"></script>\n",
      "</body></html>\n",
      "按任意键结束1\n"
     ]
    },
    {
     "data": {
      "text/plain": [
       "'1'"
      ]
     },
     "execution_count": 6,
     "metadata": {},
     "output_type": "execute_result"
    }
   ],
   "source": [
    "#模拟浏览器，为了获得chrome右键检查中的HTML结构源代码（可能和直接源代码有不同）\n",
    "import selenium.webdriver\n",
    "import time\n",
    "driver=selenium.webdriver.Chrome('./chromedriver')  #括号里写路径，和代码放到一个路径里方便\n",
    "driver.get('http://exercise.kingname.info/exercise_advanced_ajax.html')\n",
    "time.sleep(5)  #强制等待5秒，给网页加载预留时间\n",
    "html=driver.page_source #抓取源码\n",
    "print(html)\n",
    "input('按任意键结束')"
   ]
  },
  {
   "cell_type": "code",
   "execution_count": null,
   "metadata": {},
   "outputs": [],
   "source": []
  },
  {
   "cell_type": "code",
   "execution_count": null,
   "metadata": {},
   "outputs": [],
   "source": []
  },
  {
   "cell_type": "code",
   "execution_count": null,
   "metadata": {},
   "outputs": [],
   "source": []
  },
  {
   "cell_type": "code",
   "execution_count": null,
   "metadata": {},
   "outputs": [],
   "source": []
  }
 ],
 "metadata": {
  "kernelspec": {
   "display_name": "Python 3",
   "language": "python",
   "name": "python3"
  },
  "language_info": {
   "codemirror_mode": {
    "name": "ipython",
    "version": 3
   },
   "file_extension": ".py",
   "mimetype": "text/x-python",
   "name": "python",
   "nbconvert_exporter": "python",
   "pygments_lexer": "ipython3",
   "version": "3.7.3"
  }
 },
 "nbformat": 4,
 "nbformat_minor": 2
}
