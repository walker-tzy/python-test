{
 "cells": [
  {
   "cell_type": "code",
   "execution_count": null,
   "metadata": {},
   "outputs": [],
   "source": [
    "#异步加载与请求头 2019.8.5"
   ]
  },
  {
   "cell_type": "code",
   "execution_count": 1,
   "metadata": {},
   "outputs": [
    {
     "name": "stdout",
     "output_type": "stream",
     "text": [
      "{\n",
      "    \"basic_info\": {\n",
      "        \"name\": \"kingname\",\n",
      "        \"age\": 24,\n",
      "        \"sex\": \"male\",\n",
      "        \"merry\": false\n",
      "    },\n",
      "    \"work_info\": {\n",
      "        \"salary\": 99999,\n",
      "        \"position\": \"engineer\",\n",
      "        \"department\": null\n",
      "    }\n",
      "}\n",
      "{'basic_info': {'name': 'kingname', 'age': 24, 'sex': 'male', 'merry': False}, 'work_info': {'salary': 99999, 'position': 'engineer', 'department': None}}\n"
     ]
    }
   ],
   "source": [
    "import json\n",
    "person = {\n",
    "      'basic_info': {'name': 'kingname',\n",
    "              'age': 24,\n",
    "              'sex': 'male',\n",
    "              'merry': False},\n",
    "      'work_info': {'salary': 99999,\n",
    "              'position': 'engineer',\n",
    "              'department': None}\n",
    "      }\n",
    "#json格式是各种语言的桥梁中介\n",
    "#将字典转化为json格式字符串\n",
    "person_json=json.dumps(person,indent=4) #加四个空格缩进\n",
    "print(person_json)\n",
    "#列表用同样方法也可转换为json格式字符串\n",
    "person_dict=json.loads(person_json)\n",
    "print(person_dict)\n"
   ]
  },
  {
   "cell_type": "code",
   "execution_count": 2,
   "metadata": {},
   "outputs": [
    {
     "name": "stdout",
     "output_type": "stream",
     "text": [
      "如果你看到这一段文字，说明你已经成功访问了这个页面,并获取了GET方式的异步加载数据。\n"
     ]
    }
   ],
   "source": [
    "#GET方式的异步加载数据\n",
    "import requests\n",
    "url='http://exercise.kingname.info/ajax_1_backend' #注意网址不是最初原始网址，是chrome开发者工具中network项目中的两种异步加载\n",
    "html=requests.get(url).content.decode()\n",
    "print(html)\n"
   ]
  },
  {
   "cell_type": "code",
   "execution_count": 5,
   "metadata": {},
   "outputs": [
    {
     "name": "stdout",
     "output_type": "stream",
     "text": [
      "如果你看到这一段文字，说明你已经成功访问了这个页面，并获取了POST方式的异步加载数据。你向服务器提交的两个参数，分别为name： tzy, age：20\n"
     ]
    }
   ],
   "source": [
    "#POST方式的异步加载数据\n",
    "import requests\n",
    "url_post='http://exercise.kingname.info/ajax_1_postbackend'#注意网址不是最初原始网址，是chrome开发者工具中network项目中的两种异步加载\n",
    "html_1=requests.post(url_post,json={'name':'tzy','age':20}).content.decode()\n",
    "print(html_1)\n"
   ]
  },
  {
   "cell_type": "code",
   "execution_count": 16,
   "metadata": {},
   "outputs": [
    {
     "name": "stdout",
     "output_type": "stream",
     "text": [
      "行动代号：天王盖地虎\n"
     ]
    }
   ],
   "source": [
    "#特殊的异步加载\n",
    "import json\n",
    "import requests\n",
    "import re\n",
    "url='http://exercise.kingname.info/exercise_ajax_2.html'\n",
    "html=requests.get(url).content.decode()\n",
    "code_json=re.search(\"secret = '(.*?)'\",html,re.S).group(1)\n",
    "code_dict=json.loads(code_json)\n",
    "print(code_dict['code'])"
   ]
  },
  {
   "cell_type": "code",
   "execution_count": 19,
   "metadata": {},
   "outputs": [
    {
     "name": "stdout",
     "output_type": "stream",
     "text": [
      "行动代号：哎哟不错哦\n"
     ]
    }
   ],
   "source": [
    "import json \n",
    "import re\n",
    "import requests\n",
    "url='http://exercise.kingname.info/exercise_ajax_3.html' #原网址\n",
    "first_url='http://exercise.kingname.info/ajax_3_backend' #get异步加载网址\n",
    "second_url='http://exercise.kingname.info/ajax_3_postbackend' #post异步加载网址\n",
    "html_1=requests.get(url).content.decode()\n",
    "secret_2=re.search(\"secret_2 = '(.*?)'\",html_1,re.S).group(1)  #注意双引号，获得密码2\n",
    "first_json=requests.get(first_url).content.decode()\n",
    "first_dict=json.loads(first_json)\n",
    "secret_1=first_dict['code'] #获得密码1\n",
    "second_json=requests.post(second_url,json={'name':'tzy','age':'20','secret1':secret_1,'secret2':secret_2}).content.decode()\n",
    "second_dict=json.loads(second_json) #获得密码1,2，后发送post请求\n",
    "code=second_dict['code']\n",
    "print(code)\n"
   ]
  },
  {
   "cell_type": "code",
   "execution_count": 18,
   "metadata": {},
   "outputs": [
    {
     "name": "stdout",
     "output_type": "stream",
     "text": [
      "kingname is genius\n"
     ]
    }
   ],
   "source": [
    "#基于异步加载的简单登录\n",
    "import requests\n",
    "import json\n",
    "url_1='http://exercise.kingname.info/ajax_4_backend'\n",
    "code_json=requests.post(url_1,json={'username':'kingname','password':'genius'}).content.decode()\n",
    "code_dict=json.loads(code_json)\n",
    "print(code_dict['code'])\n",
    "\n",
    "\n"
   ]
  },
  {
   "cell_type": "code",
   "execution_count": 2,
   "metadata": {},
   "outputs": [
    {
     "name": "stdout",
     "output_type": "stream",
     "text": [
      "访问成功，通关密码：38323\n"
     ]
    }
   ],
   "source": [
    "import requests\n",
    "import json\n",
    "url = 'http://exercise.kingname.info/exercise_headers_backend'\n",
    "headers = {\n",
    "\n",
    "    'Accept': '*/*',\n",
    "    'Accept-Encoding': 'gzip, deflate, br',\n",
    "    'Accept-Language': 'zh-CN,zh;q=0.8,en;q=0.6',\n",
    "    'anhao': 'kingname',\n",
    "    'Connection': 'keep-alive',\n",
    "    'Content-Type': 'application/json; charset=utf-8',\n",
    "    'DNT': '1',\n",
    "    'Host': 'exercise.kingname.info',\n",
    "    'Referer': 'http://exercise.kingname.info/exercise_headers.html',\n",
    "    'User-Agent': 'Mozilla/5.0 (Macintosh; Intel Mac OS X 10_12_5) AppleWebKit/537.36 (KHTML, like Gecko) Chrome/59.0.3071.115 Safari/537.36',\n",
    "    'X-Requested-With': 'XMLHttpRequest',\n",
    "\n",
    "}\n",
    "html_json = requests.get(url, headers=headers).content.decode()\n",
    "html_dict = json.loads(html_json)\n",
    "print(html_dict['code'])"
   ]
  },
  {
   "cell_type": "code",
   "execution_count": 6,
   "metadata": {},
   "outputs": [
    {
     "name": "stdout",
     "output_type": "stream",
     "text": [
      "<html><head>\n",
      "        <title>exercise ajax load</title>\n",
      "    </head>\n",
      "    <body>\n",
      "        <div class=\"content\"></div>\n",
      "    \n",
      "    <script src=\"static/js/jquery-3.2.1.min.js\"></script>\n",
      "    <script src=\"static/js/exercise_check.js\"></script>\n",
      "</body></html>\n",
      "按任意键结束1\n"
     ]
    },
    {
     "data": {
      "text/plain": [
       "'1'"
      ]
     },
     "execution_count": 6,
     "metadata": {},
     "output_type": "execute_result"
    }
   ],
   "source": [
    "#模拟浏览器，为了获得chrome右键检查中的HTML结构源代码（可能和直接源代码有不同）\n",
    "import selenium.webdriver\n",
    "import time\n",
    "driver=selenium.webdriver.Chrome('./chromedriver')  #括号里写路径，和代码放到一个路径里方便\n",
    "driver.get('http://exercise.kingname.info/exercise_advanced_ajax.html')\n",
    "time.sleep(5)  #强制等待5秒，给网页加载预留时间\n",
    "html=driver.page_source #抓取源码\n",
    "print(html)\n",
    "input('按任意键结束')"
   ]
  },
  {
   "cell_type": "code",
   "execution_count": 7,
   "metadata": {},
   "outputs": [
    {
     "name": "stdout",
     "output_type": "stream",
     "text": [
      "通关成功，通关口令：这是最终数据。\n"
     ]
    }
   ],
   "source": [
    "from selenium import webdriver\n",
    "from selenium.webdriver.support.ui import WebDriverWait #时间控制包\n",
    "from selenium.webdriver.common.by import By\n",
    "from selenium.webdriver.support import expected_conditions as EC \n",
    "driver=webdriver.Chrome('./chromedriver')\n",
    "driver.get('http://exercise.kingname.info/exercise_advanced_ajax.html')\n",
    "\n",
    "try:\n",
    "    WebDriverWait(driver,30).until(EC.text_to_be_present_in_element((By.CLASS_NAME,\"content\"),'通关'))\n",
    "except Exception as _:\n",
    "    print('网页加载太慢，不等了')\n",
    "    \n",
    "\n",
    "element=driver.find_element_by_xpath('//div[@class=\"content\"]')\n",
    "print(element.text)\n",
    "driver.quit()"
   ]
  },
  {
   "cell_type": "code",
   "execution_count": 12,
   "metadata": {},
   "outputs": [
    {
     "ename": "NoSuchElementException",
     "evalue": "Message: no such element: Unable to locate element: {\"method\":\"css selector\",\"selector\":\"[name=\"password\"]\"}\n  (Session info: chrome=76.0.3809.100)\n",
     "output_type": "error",
     "traceback": [
      "\u001b[0;31m---------------------------------------------------------------------------\u001b[0m",
      "\u001b[0;31mNoSuchElementException\u001b[0m                    Traceback (most recent call last)",
      "\u001b[0;32m<ipython-input-12-b95ccceb6cd3>\u001b[0m in \u001b[0;36m<module>\u001b[0;34m\u001b[0m\n\u001b[1;32m      9\u001b[0m \u001b[0melem\u001b[0m\u001b[0;34m.\u001b[0m\u001b[0mclear\u001b[0m\u001b[0;34m(\u001b[0m\u001b[0;34m)\u001b[0m\u001b[0;34m\u001b[0m\u001b[0;34m\u001b[0m\u001b[0m\n\u001b[1;32m     10\u001b[0m \u001b[0melem\u001b[0m\u001b[0;34m.\u001b[0m\u001b[0msend_keys\u001b[0m\u001b[0;34m(\u001b[0m\u001b[0;34m\"3144115348@qq.com\"\u001b[0m\u001b[0;34m)\u001b[0m \u001b[0;31m#输入账号的\u001b[0m\u001b[0;34m\u001b[0m\u001b[0;34m\u001b[0m\u001b[0m\n\u001b[0;32m---> 11\u001b[0;31m \u001b[0mpassword\u001b[0m\u001b[0;34m=\u001b[0m\u001b[0mdriver\u001b[0m\u001b[0;34m.\u001b[0m\u001b[0mfind_element_by_name\u001b[0m\u001b[0;34m(\u001b[0m\u001b[0;34m\"password\"\u001b[0m\u001b[0;34m)\u001b[0m\u001b[0;34m\u001b[0m\u001b[0;34m\u001b[0m\u001b[0m\n\u001b[0m\u001b[1;32m     12\u001b[0m \u001b[0mpassword\u001b[0m\u001b[0;34m.\u001b[0m\u001b[0mclear\u001b[0m\u001b[0;34m(\u001b[0m\u001b[0;34m)\u001b[0m\u001b[0;34m\u001b[0m\u001b[0;34m\u001b[0m\u001b[0m\n\u001b[1;32m     13\u001b[0m \u001b[0mpassword\u001b[0m\u001b[0;34m.\u001b[0m\u001b[0msend_keys\u001b[0m\u001b[0;34m(\u001b[0m\u001b[0;34m\"tongtong19990204\"\u001b[0m\u001b[0;34m)\u001b[0m\u001b[0;34m\u001b[0m\u001b[0;34m\u001b[0m\u001b[0m\n",
      "\u001b[0;32m~/anaconda3/lib/python3.7/site-packages/selenium/webdriver/remote/webdriver.py\u001b[0m in \u001b[0;36mfind_element_by_name\u001b[0;34m(self, name)\u001b[0m\n\u001b[1;32m    494\u001b[0m             \u001b[0melement\u001b[0m \u001b[0;34m=\u001b[0m \u001b[0mdriver\u001b[0m\u001b[0;34m.\u001b[0m\u001b[0mfind_element_by_name\u001b[0m\u001b[0;34m(\u001b[0m\u001b[0;34m'foo'\u001b[0m\u001b[0;34m)\u001b[0m\u001b[0;34m\u001b[0m\u001b[0;34m\u001b[0m\u001b[0m\n\u001b[1;32m    495\u001b[0m         \"\"\"\n\u001b[0;32m--> 496\u001b[0;31m         \u001b[0;32mreturn\u001b[0m \u001b[0mself\u001b[0m\u001b[0;34m.\u001b[0m\u001b[0mfind_element\u001b[0m\u001b[0;34m(\u001b[0m\u001b[0mby\u001b[0m\u001b[0;34m=\u001b[0m\u001b[0mBy\u001b[0m\u001b[0;34m.\u001b[0m\u001b[0mNAME\u001b[0m\u001b[0;34m,\u001b[0m \u001b[0mvalue\u001b[0m\u001b[0;34m=\u001b[0m\u001b[0mname\u001b[0m\u001b[0;34m)\u001b[0m\u001b[0;34m\u001b[0m\u001b[0;34m\u001b[0m\u001b[0m\n\u001b[0m\u001b[1;32m    497\u001b[0m \u001b[0;34m\u001b[0m\u001b[0m\n\u001b[1;32m    498\u001b[0m     \u001b[0;32mdef\u001b[0m \u001b[0mfind_elements_by_name\u001b[0m\u001b[0;34m(\u001b[0m\u001b[0mself\u001b[0m\u001b[0;34m,\u001b[0m \u001b[0mname\u001b[0m\u001b[0;34m)\u001b[0m\u001b[0;34m:\u001b[0m\u001b[0;34m\u001b[0m\u001b[0;34m\u001b[0m\u001b[0m\n",
      "\u001b[0;32m~/anaconda3/lib/python3.7/site-packages/selenium/webdriver/remote/webdriver.py\u001b[0m in \u001b[0;36mfind_element\u001b[0;34m(self, by, value)\u001b[0m\n\u001b[1;32m    976\u001b[0m         return self.execute(Command.FIND_ELEMENT, {\n\u001b[1;32m    977\u001b[0m             \u001b[0;34m'using'\u001b[0m\u001b[0;34m:\u001b[0m \u001b[0mby\u001b[0m\u001b[0;34m,\u001b[0m\u001b[0;34m\u001b[0m\u001b[0;34m\u001b[0m\u001b[0m\n\u001b[0;32m--> 978\u001b[0;31m             'value': value})['value']\n\u001b[0m\u001b[1;32m    979\u001b[0m \u001b[0;34m\u001b[0m\u001b[0m\n\u001b[1;32m    980\u001b[0m     \u001b[0;32mdef\u001b[0m \u001b[0mfind_elements\u001b[0m\u001b[0;34m(\u001b[0m\u001b[0mself\u001b[0m\u001b[0;34m,\u001b[0m \u001b[0mby\u001b[0m\u001b[0;34m=\u001b[0m\u001b[0mBy\u001b[0m\u001b[0;34m.\u001b[0m\u001b[0mID\u001b[0m\u001b[0;34m,\u001b[0m \u001b[0mvalue\u001b[0m\u001b[0;34m=\u001b[0m\u001b[0;32mNone\u001b[0m\u001b[0;34m)\u001b[0m\u001b[0;34m:\u001b[0m\u001b[0;34m\u001b[0m\u001b[0;34m\u001b[0m\u001b[0m\n",
      "\u001b[0;32m~/anaconda3/lib/python3.7/site-packages/selenium/webdriver/remote/webdriver.py\u001b[0m in \u001b[0;36mexecute\u001b[0;34m(self, driver_command, params)\u001b[0m\n\u001b[1;32m    319\u001b[0m         \u001b[0mresponse\u001b[0m \u001b[0;34m=\u001b[0m \u001b[0mself\u001b[0m\u001b[0;34m.\u001b[0m\u001b[0mcommand_executor\u001b[0m\u001b[0;34m.\u001b[0m\u001b[0mexecute\u001b[0m\u001b[0;34m(\u001b[0m\u001b[0mdriver_command\u001b[0m\u001b[0;34m,\u001b[0m \u001b[0mparams\u001b[0m\u001b[0;34m)\u001b[0m\u001b[0;34m\u001b[0m\u001b[0;34m\u001b[0m\u001b[0m\n\u001b[1;32m    320\u001b[0m         \u001b[0;32mif\u001b[0m \u001b[0mresponse\u001b[0m\u001b[0;34m:\u001b[0m\u001b[0;34m\u001b[0m\u001b[0;34m\u001b[0m\u001b[0m\n\u001b[0;32m--> 321\u001b[0;31m             \u001b[0mself\u001b[0m\u001b[0;34m.\u001b[0m\u001b[0merror_handler\u001b[0m\u001b[0;34m.\u001b[0m\u001b[0mcheck_response\u001b[0m\u001b[0;34m(\u001b[0m\u001b[0mresponse\u001b[0m\u001b[0;34m)\u001b[0m\u001b[0;34m\u001b[0m\u001b[0;34m\u001b[0m\u001b[0m\n\u001b[0m\u001b[1;32m    322\u001b[0m             response['value'] = self._unwrap_value(\n\u001b[1;32m    323\u001b[0m                 response.get('value', None))\n",
      "\u001b[0;32m~/anaconda3/lib/python3.7/site-packages/selenium/webdriver/remote/errorhandler.py\u001b[0m in \u001b[0;36mcheck_response\u001b[0;34m(self, response)\u001b[0m\n\u001b[1;32m    240\u001b[0m                 \u001b[0malert_text\u001b[0m \u001b[0;34m=\u001b[0m \u001b[0mvalue\u001b[0m\u001b[0;34m[\u001b[0m\u001b[0;34m'alert'\u001b[0m\u001b[0;34m]\u001b[0m\u001b[0;34m.\u001b[0m\u001b[0mget\u001b[0m\u001b[0;34m(\u001b[0m\u001b[0;34m'text'\u001b[0m\u001b[0;34m)\u001b[0m\u001b[0;34m\u001b[0m\u001b[0;34m\u001b[0m\u001b[0m\n\u001b[1;32m    241\u001b[0m             \u001b[0;32mraise\u001b[0m \u001b[0mexception_class\u001b[0m\u001b[0;34m(\u001b[0m\u001b[0mmessage\u001b[0m\u001b[0;34m,\u001b[0m \u001b[0mscreen\u001b[0m\u001b[0;34m,\u001b[0m \u001b[0mstacktrace\u001b[0m\u001b[0;34m,\u001b[0m \u001b[0malert_text\u001b[0m\u001b[0;34m)\u001b[0m\u001b[0;34m\u001b[0m\u001b[0;34m\u001b[0m\u001b[0m\n\u001b[0;32m--> 242\u001b[0;31m         \u001b[0;32mraise\u001b[0m \u001b[0mexception_class\u001b[0m\u001b[0;34m(\u001b[0m\u001b[0mmessage\u001b[0m\u001b[0;34m,\u001b[0m \u001b[0mscreen\u001b[0m\u001b[0;34m,\u001b[0m \u001b[0mstacktrace\u001b[0m\u001b[0;34m)\u001b[0m\u001b[0;34m\u001b[0m\u001b[0;34m\u001b[0m\u001b[0m\n\u001b[0m\u001b[1;32m    243\u001b[0m \u001b[0;34m\u001b[0m\u001b[0m\n\u001b[1;32m    244\u001b[0m     \u001b[0;32mdef\u001b[0m \u001b[0m_value_or_default\u001b[0m\u001b[0;34m(\u001b[0m\u001b[0mself\u001b[0m\u001b[0;34m,\u001b[0m \u001b[0mobj\u001b[0m\u001b[0;34m,\u001b[0m \u001b[0mkey\u001b[0m\u001b[0;34m,\u001b[0m \u001b[0mdefault\u001b[0m\u001b[0;34m)\u001b[0m\u001b[0;34m:\u001b[0m\u001b[0;34m\u001b[0m\u001b[0;34m\u001b[0m\u001b[0m\n",
      "\u001b[0;31mNoSuchElementException\u001b[0m: Message: no such element: Unable to locate element: {\"method\":\"css selector\",\"selector\":\"[name=\"password\"]\"}\n  (Session info: chrome=76.0.3809.100)\n"
     ]
    }
   ],
   "source": [
    "#selenium模拟浏览器\n",
    "#keys方法，find_element_by_name方法，send_keys方法\n",
    "from selenium import webdriver\n",
    "from selenium.webdriver.common.keys import Keys\n",
    "import time\n",
    "driver=webdriver.Chrome('./chromedriver')\n",
    "driver.get('https://www.zhihu.com/#signin')\n",
    "elem=driver.find_element_by_name('username')  #账号输入框\n",
    "elem.clear()\n",
    "elem.send_keys(\"3144115348@qq.com\") #输入账号的\n",
    "password=driver.find_element_by_name(\"password\")\n",
    "password.clear()\n",
    "password.send_keys(\"tongtong19990204\")\n",
    "input('请在网页点击倒立文字，然后按任意键继续')\n",
    "elem.send_keys(Keys.RETURN) #模拟键盘回车\n",
    "time.sleep(10)\n",
    "print(driver.page_source)\n",
    "driver.quit()\n"
   ]
  },
  {
   "cell_type": "code",
   "execution_count": null,
   "metadata": {},
   "outputs": [],
   "source": []
  },
  {
   "cell_type": "code",
   "execution_count": null,
   "metadata": {},
   "outputs": [],
   "source": []
  }
 ],
 "metadata": {
  "kernelspec": {
   "display_name": "Python 3",
   "language": "python",
   "name": "python3"
  },
  "language_info": {
   "codemirror_mode": {
    "name": "ipython",
    "version": 3
   },
   "file_extension": ".py",
   "mimetype": "text/x-python",
   "name": "python",
   "nbconvert_exporter": "python",
   "pygments_lexer": "ipython3",
   "version": "3.7.3"
  }
 },
 "nbformat": 4,
 "nbformat_minor": 2
}
